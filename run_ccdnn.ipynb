{
 "cells": [
  {
   "cell_type": "code",
   "execution_count": null,
   "id": "f2c2a02b",
   "metadata": {},
   "outputs": [],
   "source": [
    "#CCDNN - minist\n",
    "%run lib/run_minist_AE.py --model=cnn --model-cca=CCDNN --train=True --epoch=10 --output-dim=10 --RF-flag=True --coder-style=CNN"
   ]
  }
 ],
 "metadata": {
  "kernelspec": {
   "display_name": "ccdnn",
   "language": "python",
   "name": "ccdnn"
  },
  "language_info": {
   "codemirror_mode": {
    "name": "ipython",
    "version": 3
   },
   "file_extension": ".py",
   "mimetype": "text/x-python",
   "name": "python",
   "nbconvert_exporter": "python",
   "pygments_lexer": "ipython3",
   "version": "3.7.12"
  }
 },
 "nbformat": 4,
 "nbformat_minor": 5
}
